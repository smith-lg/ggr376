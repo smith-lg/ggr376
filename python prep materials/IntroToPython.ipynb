{
 "cells": [
  {
   "cell_type": "markdown",
   "id": "09d6e964",
   "metadata": {},
   "source": [
    "# Python Handbook\n",
    "By Aisha Nur Syed "
   ]
  },
  {
   "cell_type": "markdown",
   "id": "276b9f30",
   "metadata": {},
   "source": [
    "## Table of Contents:\n",
    "* [Why Python?](#WhyPython)\n",
    "* [Notebook Basics](#NoteBasics)\n",
    "* [Variables](#vars)\n",
    "    * [Naming Variables](#naming-vars)\n",
    "* [Libraries](#libs)\n",
    "* [Data Types](#DT)\n",
    "    * [Text Data](#TextData)\n",
    "    * [Numeric Data](#NumData)\n",
    "    * [True/False Data](#TFData)\n",
    "    * [Array](#array)\n",
    "        * [Ordered](#a-ordered)\n",
    "        * [Mutable](#a-mutable)\n",
    "* [Loops](#loops)\n",
    "    * [If Statements](#if)\n",
    "    * [For Loops](#for)\n",
    "    * [If Statement in For Loop](#for-if)\n",
    "* [Functions](#funcs)\n",
    "* [Non-Spatial Data in Python](#data)\n",
    "    * [Load Data](#load)\n",
    "    * [View Data](#view)\n",
    "    * [Select Data](#select)\n",
    "    * [Save Data](#save)\n",
    "- [Translating Python to English](#translate)"
   ]
  },
  {
   "cell_type": "markdown",
   "id": "12abb6d4",
   "metadata": {},
   "source": [
    "## Why Python? <a class=\"anchor\" id=\"WhyPython\"></a>"
   ]
  },
  {
   "cell_type": "markdown",
   "id": "cead9114",
   "metadata": {},
   "source": [
    "Python is useful for visualization because it is:\n",
    "- Precise\n",
    "- Open source\n",
    "- Customizable\n",
    "\n",
    "Many coders keep their past projects for future reference. Feel free to save this notebook to help you understand and/or write code in the future!"
   ]
  },
  {
   "cell_type": "markdown",
   "id": "ded182cd",
   "metadata": {},
   "source": [
    "## Notebook Basics<a class=\"anchor\" id=\"NoteBasics\"></a>"
   ]
  },
  {
   "cell_type": "markdown",
   "id": "77e44f88",
   "metadata": {},
   "source": [
    "This notebook will have code cells and markdown cells. This text is in a markdown cell, and is not coded in Python. You can tell this is a markdown cell because there is no **In [    ]:** next to it. You don't have to worry about running / editing these, as I will only use these to explain concepts."
   ]
  },
  {
   "cell_type": "code",
   "execution_count": 26,
   "id": "6dd804c1",
   "metadata": {},
   "outputs": [],
   "source": [
    "#This block is a code cell and is runnable! If you run this, there will be no output, and you will learn why soon..."
   ]
  },
  {
   "cell_type": "code",
   "execution_count": 2,
   "id": "b5b03859",
   "metadata": {},
   "outputs": [
    {
     "name": "stdout",
     "output_type": "stream",
     "text": [
      "Python is fun!\n"
     ]
    }
   ],
   "source": [
    "#This block will have an output, try running it and see what an output looks like!\n",
    "print(\"Python is fun!\")"
   ]
  },
  {
   "cell_type": "code",
   "execution_count": 3,
   "id": "067854b8",
   "metadata": {},
   "outputs": [
    {
     "ename": "SyntaxError",
     "evalue": "unterminated string literal (detected at line 2) (1288403857.py, line 2)",
     "output_type": "error",
     "traceback": [
      "\u001b[0;36m  Cell \u001b[0;32mIn[3], line 2\u001b[0;36m\u001b[0m\n\u001b[0;31m    print(\"this gives an error)\u001b[0m\n\u001b[0m          ^\u001b[0m\n\u001b[0;31mSyntaxError\u001b[0m\u001b[0;31m:\u001b[0m unterminated string literal (detected at line 2)\n"
     ]
    }
   ],
   "source": [
    "#Sometimes a cell will run, but it will not have an output. This is because it throws an error.\n",
    "print(\"this gives an error)"
   ]
  },
  {
   "cell_type": "markdown",
   "id": "7243048d",
   "metadata": {},
   "source": [
    "## Variables<a class=\"anchor\" id=\"vars\"></a>"
   ]
  },
  {
   "cell_type": "markdown",
   "id": "905aa5b4",
   "metadata": {},
   "source": [
    "Variables store values. Varaibles will never have quotations around them."
   ]
  },
  {
   "cell_type": "code",
   "execution_count": 4,
   "id": "73878904",
   "metadata": {},
   "outputs": [
    {
     "name": "stdout",
     "output_type": "stream",
     "text": [
      "2\n",
      "cat\n"
     ]
    }
   ],
   "source": [
    "x = 2\n",
    "y = \"cat\"\n",
    "print(x)\n",
    "print(y)"
   ]
  },
  {
   "cell_type": "markdown",
   "id": "0d231f0a",
   "metadata": {},
   "source": [
    "You can overwrite variables..."
   ]
  },
  {
   "cell_type": "code",
   "execution_count": 5,
   "id": "3a83e359",
   "metadata": {},
   "outputs": [
    {
     "data": {
      "text/plain": [
       "3"
      ]
     },
     "execution_count": 5,
     "metadata": {},
     "output_type": "execute_result"
    }
   ],
   "source": [
    "x = 3\n",
    "x"
   ]
  },
  {
   "cell_type": "markdown",
   "id": "62fa6886",
   "metadata": {},
   "source": [
    "Do math with variables..."
   ]
  },
  {
   "cell_type": "code",
   "execution_count": 6,
   "id": "463e6a54",
   "metadata": {},
   "outputs": [
    {
     "name": "stdout",
     "output_type": "stream",
     "text": [
      "15\n"
     ]
    }
   ],
   "source": [
    "z = 5\n",
    "print(x*z)"
   ]
  },
  {
   "cell_type": "markdown",
   "id": "dbe82824",
   "metadata": {},
   "source": [
    "and contain many values in one variable."
   ]
  },
  {
   "cell_type": "code",
   "execution_count": 7,
   "id": "9306250a",
   "metadata": {},
   "outputs": [
    {
     "name": "stdout",
     "output_type": "stream",
     "text": [
      "['cat', 'dog', 'owl']\n"
     ]
    }
   ],
   "source": [
    "animals = [y, \"dog\", \"owl\"]\n",
    "\n",
    "print(animals)"
   ]
  },
  {
   "cell_type": "markdown",
   "id": "e7b32e58",
   "metadata": {},
   "source": [
    "### Naming variables<a class=\"anchor\" id=\"naming-vars\"></a>"
   ]
  },
  {
   "cell_type": "markdown",
   "id": "f1f8d655",
   "metadata": {},
   "source": [
    "Variable names:\n",
    "- Are case sensitive\n",
    "- Must start with a letter or _\n",
    "- Can only contain alpha-numeric characters and underscores\n",
    "- Cannot contain spaces\n",
    "\n",
    "Variable names should be descriptive and simple. If you want to used multiple words to create your variable name, you can use:\n",
    "- Camel case (`totalVolume`)\n",
    "- Underscores (`total_volume`)"
   ]
  },
  {
   "cell_type": "code",
   "execution_count": 8,
   "id": "3fa04477",
   "metadata": {},
   "outputs": [],
   "source": [
    "#Good and legal variable names\n",
    "var1 = 2\n",
    "myName = \"Aisha\"\n",
    "waterVol_mL = 7.5"
   ]
  },
  {
   "cell_type": "code",
   "execution_count": 9,
   "id": "fbbfa1bf",
   "metadata": {},
   "outputs": [],
   "source": [
    "#Bad and legal variable names\n",
    "myfirstvariable = 2\n",
    "guesswhatthismeans = [\"a\", \"f\", \"c\"]\n",
    "mynameis = \"Aisha\"\n",
    "amOUntoFwaterImeasuredonmyplantsleaf3 = 7.5"
   ]
  },
  {
   "cell_type": "code",
   "execution_count": 10,
   "id": "cd2d661a",
   "metadata": {},
   "outputs": [
    {
     "ename": "SyntaxError",
     "evalue": "invalid decimal literal (1022356296.py, line 2)",
     "output_type": "error",
     "traceback": [
      "\u001b[0;36m  Cell \u001b[0;32mIn[10], line 2\u001b[0;36m\u001b[0m\n\u001b[0;31m    1stvar = 2\u001b[0m\n\u001b[0m    ^\u001b[0m\n\u001b[0;31mSyntaxError\u001b[0m\u001b[0;31m:\u001b[0m invalid decimal literal\n"
     ]
    }
   ],
   "source": [
    "#Illegal variable names\n",
    "1stvar = 2\n",
    "my-name = \"Aisha\"\n",
    "water volume = 7.5"
   ]
  },
  {
   "cell_type": "markdown",
   "id": "90fd8154",
   "metadata": {},
   "source": [
    "## Libraries<a class=\"anchor\" id=\"libs\"></a>"
   ]
  },
  {
   "cell_type": "markdown",
   "id": "377ac3f1",
   "metadata": {},
   "source": [
    "Python also contains libraries that contain variables, functions, and data types that we may want to use."
   ]
  },
  {
   "cell_type": "code",
   "execution_count": 11,
   "id": "96f66cf7",
   "metadata": {},
   "outputs": [],
   "source": [
    "import numpy as np #numpy contains common math variables and allows us to use arrays\n",
    "import pandas as pd #pandas is used to work with data\n",
    "import matplotlib.pyplot as plt #used to plot graphs"
   ]
  },
  {
   "cell_type": "code",
   "execution_count": 12,
   "id": "d38bbc56",
   "metadata": {},
   "outputs": [
    {
     "name": "stdout",
     "output_type": "stream",
     "text": [
      "3.141592653589793\n"
     ]
    }
   ],
   "source": [
    "pi = np.pi\n",
    "print(pi)"
   ]
  },
  {
   "cell_type": "markdown",
   "id": "bae9eb75",
   "metadata": {},
   "source": [
    "Not all libraries are installed on JupyterHub. You can install libraries that are not part of the environment."
   ]
  },
  {
   "cell_type": "code",
   "execution_count": 13,
   "id": "89cdca1e",
   "metadata": {},
   "outputs": [
    {
     "name": "stdout",
     "output_type": "stream",
     "text": [
      "Collecting laspy\n",
      "  Using cached laspy-2.5.1-py3-none-any.whl\n",
      "Requirement already satisfied: numpy in /opt/conda/lib/python3.10/site-packages (from laspy) (1.23.5)\n",
      "Installing collected packages: laspy\n",
      "Successfully installed laspy-2.5.1\n"
     ]
    }
   ],
   "source": [
    "!pip install laspy\n",
    "\n",
    "#You still have to import libraries after you install them\n",
    "import laspy"
   ]
  },
  {
   "cell_type": "markdown",
   "id": "2aa5fa5f",
   "metadata": {},
   "source": [
    "## Data Types<a class=\"anchor\" id=\"DT\"></a>"
   ]
  },
  {
   "cell_type": "markdown",
   "id": "e4416f13",
   "metadata": {},
   "source": [
    "Variables are stored as different data types. Data types have different features.\n",
    "- Text: `str`\n",
    "- Numeric: `float` or `int`\n",
    "- Boolean (True/False): `bool`\n",
    "- Iterable collection of items: `array`"
   ]
  },
  {
   "cell_type": "markdown",
   "id": "c1193d50",
   "metadata": {},
   "source": [
    "### Text data<a class=\"anchor\" id=\"TextData\"></a>"
   ]
  },
  {
   "cell_type": "code",
   "execution_count": 14,
   "id": "64c395e7",
   "metadata": {},
   "outputs": [
    {
     "name": "stdout",
     "output_type": "stream",
     "text": [
      "cat\n",
      "<class 'str'>\n"
     ]
    }
   ],
   "source": [
    "print(y)\n",
    "print(type(y))"
   ]
  },
  {
   "cell_type": "markdown",
   "id": "ceae8f84",
   "metadata": {},
   "source": [
    "### Numeric data<a class=\"anchor\" id=\"NumData\"></a>"
   ]
  },
  {
   "cell_type": "markdown",
   "id": "4f204855",
   "metadata": {},
   "source": [
    "`float` data is contains decimals, and `int` data is an integer."
   ]
  },
  {
   "cell_type": "code",
   "execution_count": 15,
   "id": "d3c10b5f",
   "metadata": {},
   "outputs": [
    {
     "name": "stdout",
     "output_type": "stream",
     "text": [
      "3\n",
      "<class 'int'>\n",
      "<class 'float'>\n"
     ]
    }
   ],
   "source": [
    "print(x)\n",
    "print(type(x))\n",
    "print(type(3.0))"
   ]
  },
  {
   "cell_type": "markdown",
   "id": "bedf9136",
   "metadata": {},
   "source": [
    "### True/False data<a class=\"anchor\" id=\"TFData\"></a>"
   ]
  },
  {
   "cell_type": "markdown",
   "id": "12618f8e",
   "metadata": {},
   "source": [
    "`bool` data is either `TRUE` or `FALSE`. Boolean data is rarely defined by the user (though it can be), and is instead the outcome of checking if a condition is met."
   ]
  },
  {
   "cell_type": "code",
   "execution_count": 16,
   "id": "c1e95306",
   "metadata": {},
   "outputs": [
    {
     "name": "stdout",
     "output_type": "stream",
     "text": [
      "<class 'bool'>\n"
     ]
    }
   ],
   "source": [
    "print(type(True))"
   ]
  },
  {
   "cell_type": "code",
   "execution_count": 17,
   "id": "ef6855c5",
   "metadata": {},
   "outputs": [
    {
     "name": "stdout",
     "output_type": "stream",
     "text": [
      "5 > 4 is True\n",
      "<class 'bool'>\n"
     ]
    }
   ],
   "source": [
    "check1 = 5 > 4\n",
    "print(\"5 > 4 is\", check1)\n",
    "print(type(check1))"
   ]
  },
  {
   "cell_type": "code",
   "execution_count": 18,
   "id": "4ad1ad8c",
   "metadata": {},
   "outputs": [
    {
     "name": "stdout",
     "output_type": "stream",
     "text": [
      "8 > 100 is False\n",
      "<class 'bool'>\n"
     ]
    }
   ],
   "source": [
    "check2 = 8 > 100\n",
    "print(\"8 > 100 is\", check2)\n",
    "print(type(check2))"
   ]
  },
  {
   "cell_type": "markdown",
   "id": "9f4de53f",
   "metadata": {},
   "source": [
    "### Array<a class=\"anchor\" id=\"array\"></a>"
   ]
  },
  {
   "cell_type": "markdown",
   "id": "91a9e3cf",
   "metadata": {},
   "source": [
    "An array is an iterable collections of data. They are one variable that can hold multiple values. Each value they hold is called an item or element. Arrays are:\n",
    "- Ordered\n",
    "- Mutable\n",
    "- Can hold non-unique items"
   ]
  },
  {
   "cell_type": "markdown",
   "id": "ff335e5c",
   "metadata": {},
   "source": [
    "#### Ordered<a class=\"anchor\" id=\"a-ordered\"></a>"
   ]
  },
  {
   "cell_type": "markdown",
   "id": "4e93fae0",
   "metadata": {},
   "source": [
    "Choosing an element out of an array is called \"indexing\" when you access it by its index number. An index number is the ordered position of the element in the array. The index starts from 0."
   ]
  },
  {
   "cell_type": "code",
   "execution_count": 19,
   "id": "9f3b3512",
   "metadata": {},
   "outputs": [
    {
     "data": {
      "text/plain": [
       "2"
      ]
     },
     "execution_count": 19,
     "metadata": {},
     "output_type": "execute_result"
    }
   ],
   "source": [
    "numArray = [2,5,7,2,3]\n",
    "\n",
    "#get the first element of the array\n",
    "numArray[0]"
   ]
  },
  {
   "cell_type": "markdown",
   "id": "25155756",
   "metadata": {},
   "source": [
    "You can choose a negetive number for the index as well. When you use a negative number, you count backwards. Thus, the last element of the array has an index of -1."
   ]
  },
  {
   "cell_type": "code",
   "execution_count": 20,
   "id": "94c9e385",
   "metadata": {},
   "outputs": [
    {
     "data": {
      "text/plain": [
       "3"
      ]
     },
     "execution_count": 20,
     "metadata": {},
     "output_type": "execute_result"
    }
   ],
   "source": [
    "numArray[-1]"
   ]
  },
  {
   "cell_type": "markdown",
   "id": "146a2d99",
   "metadata": {},
   "source": [
    "#### Mutable<a class=\"anchor\" id=\"a-mutable\"></a>"
   ]
  },
  {
   "cell_type": "markdown",
   "id": "fb4b1338",
   "metadata": {},
   "source": [
    "Let's start off with an empty array."
   ]
  },
  {
   "cell_type": "code",
   "execution_count": 21,
   "id": "85b6a7dc",
   "metadata": {},
   "outputs": [
    {
     "name": "stdout",
     "output_type": "stream",
     "text": [
      "[]\n"
     ]
    }
   ],
   "source": [
    "emptyArray = []\n",
    "print(emptyArray)"
   ]
  },
  {
   "cell_type": "markdown",
   "id": "588e7f52",
   "metadata": {},
   "source": [
    "You can add one item to an array..."
   ]
  },
  {
   "cell_type": "code",
   "execution_count": 22,
   "id": "d4367d8a",
   "metadata": {},
   "outputs": [
    {
     "name": "stdout",
     "output_type": "stream",
     "text": [
      "['cat']\n"
     ]
    }
   ],
   "source": [
    "emptyArray.append(\"cat\")\n",
    "print(emptyArray)"
   ]
  },
  {
   "cell_type": "markdown",
   "id": "17bba681",
   "metadata": {},
   "source": [
    "You can add multiple items to an array..."
   ]
  },
  {
   "cell_type": "code",
   "execution_count": 23,
   "id": "67b870be",
   "metadata": {},
   "outputs": [
    {
     "name": "stdout",
     "output_type": "stream",
     "text": [
      "['cat', 'cat', 'dog', 'owl']\n"
     ]
    }
   ],
   "source": [
    "emptyArray.extend([\"cat\", \"dog\", \"owl\"])\n",
    "print(emptyArray)"
   ]
  },
  {
   "cell_type": "markdown",
   "id": "f8f7001e",
   "metadata": {},
   "source": [
    "## Loops<a class=\"anchor\" id=\"loops\"></a>"
   ]
  },
  {
   "cell_type": "markdown",
   "id": "5445ca49",
   "metadata": {},
   "source": [
    "Loops check for conditions and run, or iterate over an object, until the condition is no longer `TRUE`. You can use different expressions to write conditions:\n",
    "- `==` is equal to\n",
    "- `!=` is not equal to\n",
    "- `>` is greater than\n",
    "- `>=` is greater than or equal to\n",
    "- `<` is less than\n",
    "- `<=` is less than or equal to \n",
    "\n",
    "You can also use logical operators:\n",
    "- `and`\n",
    "- `or`\n",
    "- `not`"
   ]
  },
  {
   "cell_type": "markdown",
   "id": "782f1042",
   "metadata": {},
   "source": [
    "<img src = \"AndOr.png\" style = \"height:280px\" title = \"And vs Or Diagram\">"
   ]
  },
  {
   "cell_type": "markdown",
   "id": "ebf64a73",
   "metadata": {},
   "source": [
    "### If Statements<a class=\"anchor\" id=\"if\"></a>"
   ]
  },
  {
   "cell_type": "markdown",
   "id": "88533863",
   "metadata": {},
   "source": [
    "Structure of an if statement: <br>\n",
    "if condition:<br>\n",
    "&nbsp; expression <br>\n",
    "\n",
    "If statements check if the condition is true. If the condition is true, then the expression code runs. If the condition is false, then the expression code does not run.    "
   ]
  },
  {
   "cell_type": "code",
   "execution_count": 27,
   "id": "496fb48f",
   "metadata": {},
   "outputs": [
    {
     "name": "stdout",
     "output_type": "stream",
     "text": [
      "5 is greater than 4.\n",
      "The condition is true.\n"
     ]
    }
   ],
   "source": [
    "# Note that indentation is important. You can either use a space or a tab to indent. Be consistent!\n",
    "\n",
    "if 5 > 4:\n",
    "    print(\"5 is greater than 4.\")\n",
    "    print(\"The condition is true.\")"
   ]
  },
  {
   "cell_type": "code",
   "execution_count": 28,
   "id": "0cd72faa",
   "metadata": {},
   "outputs": [
    {
     "ename": "IndentationError",
     "evalue": "unexpected indent (990290480.py, line 3)",
     "output_type": "error",
     "traceback": [
      "\u001b[0;36m  Cell \u001b[0;32mIn[28], line 3\u001b[0;36m\u001b[0m\n\u001b[0;31m    print(\"The condition is true.\")\u001b[0m\n\u001b[0m    ^\u001b[0m\n\u001b[0;31mIndentationError\u001b[0m\u001b[0;31m:\u001b[0m unexpected indent\n"
     ]
    }
   ],
   "source": [
    "if 5 > 4:\n",
    "    print(\"5 is greater than 4.\")\n",
    "     print(\"The condition is true.\")"
   ]
  },
  {
   "cell_type": "code",
   "execution_count": 29,
   "id": "c31279bf",
   "metadata": {},
   "outputs": [],
   "source": [
    "if 5 < 4:\n",
    "    print(\"5 is less than 4.\")\n",
    "    print(\"The condition is true.\")"
   ]
  },
  {
   "cell_type": "markdown",
   "id": "52cb2098",
   "metadata": {},
   "source": [
    "### For Loops <a class=\"anchor\" id=\"for\"></a>\n",
    "Structure of for loop: <br>\n",
    "for element in array:<br>\n",
    "&nbsp; expression <br>\n",
    "\n",
    "For loops iterate over elements in an array to perform the same operation on every item in the given array. Similar to if statements, indentation matters."
   ]
  },
  {
   "cell_type": "code",
   "execution_count": 52,
   "id": "c1a14aaf",
   "metadata": {},
   "outputs": [
    {
     "name": "stdout",
     "output_type": "stream",
     "text": [
      "2\n",
      "5\n",
      "3\n",
      "2\n",
      "4\n"
     ]
    }
   ],
   "source": [
    "exArray  = [2, 5, 3, 2, 4]\n",
    "\n",
    "for i in range(len(exArray)):\n",
    "    element = exArray[i]\n",
    "    print(element)"
   ]
  },
  {
   "cell_type": "code",
   "execution_count": 31,
   "id": "fad442a4",
   "metadata": {},
   "outputs": [
    {
     "data": {
      "text/plain": [
       "range(0, 5)"
      ]
     },
     "execution_count": 31,
     "metadata": {},
     "output_type": "execute_result"
    }
   ],
   "source": [
    "range(len(exArray))"
   ]
  },
  {
   "cell_type": "code",
   "execution_count": 34,
   "id": "8853365c",
   "metadata": {},
   "outputs": [
    {
     "name": "stdout",
     "output_type": "stream",
     "text": [
      "2\n",
      "5\n",
      "3\n",
      "2\n",
      "4\n"
     ]
    }
   ],
   "source": [
    "for ele in exArray:\n",
    "    print(ele)"
   ]
  },
  {
   "cell_type": "markdown",
   "id": "d510ffcb",
   "metadata": {},
   "source": [
    "### If Statement in For Loop <a class=\"anchor\" id=\"for-if\"></a>\n",
    "You can combine for loops and if statements to run an expression on elements in an array if the condition is true."
   ]
  },
  {
   "cell_type": "code",
   "execution_count": 35,
   "id": "0faea341",
   "metadata": {},
   "outputs": [
    {
     "name": "stdout",
     "output_type": "stream",
     "text": [
      "5\n",
      "3\n",
      "4\n"
     ]
    }
   ],
   "source": [
    "for i in range(len(exArray)):\n",
    "    element = exArray[i]\n",
    "    if element != 2:\n",
    "        print(element)"
   ]
  },
  {
   "cell_type": "markdown",
   "id": "290a88d9",
   "metadata": {},
   "source": [
    "#### And and Or"
   ]
  },
  {
   "cell_type": "code",
   "execution_count": 36,
   "id": "63421515",
   "metadata": {},
   "outputs": [
    {
     "name": "stdout",
     "output_type": "stream",
     "text": [
      "3\n",
      "4\n",
      "5\n",
      "6\n",
      "7\n"
     ]
    }
   ],
   "source": [
    "zeroToTen = range(0,11)\n",
    "\n",
    "for i in zeroToTen:\n",
    "    if i > 2 and i < 8:\n",
    "        print(i)"
   ]
  },
  {
   "cell_type": "code",
   "execution_count": 37,
   "id": "b7240281",
   "metadata": {},
   "outputs": [
    {
     "name": "stdout",
     "output_type": "stream",
     "text": [
      "0\n",
      "1\n",
      "2\n",
      "3\n",
      "4\n",
      "5\n",
      "6\n",
      "7\n",
      "8\n",
      "9\n",
      "10\n"
     ]
    }
   ],
   "source": [
    "for i in zeroToTen:\n",
    "    if i > 2 or i < 8:\n",
    "        print(i)"
   ]
  },
  {
   "cell_type": "code",
   "execution_count": 38,
   "id": "402259b1",
   "metadata": {},
   "outputs": [
    {
     "name": "stdout",
     "output_type": "stream",
     "text": [
      "0\n",
      "1\n",
      "2\n",
      "8\n",
      "9\n",
      "10\n"
     ]
    }
   ],
   "source": [
    "for i in zeroToTen:\n",
    "    if not(i > 2 and i < 8):\n",
    "        print(i)"
   ]
  },
  {
   "cell_type": "markdown",
   "id": "dd092413",
   "metadata": {},
   "source": [
    "## Functions<a class=\"anchor\" id=\"funcs\"></a>"
   ]
  },
  {
   "cell_type": "markdown",
   "id": "239c8cfe",
   "metadata": {},
   "source": [
    "Functions allow you to run a block of code. You can create your own function..."
   ]
  },
  {
   "cell_type": "code",
   "execution_count": 39,
   "id": "70909b3a",
   "metadata": {},
   "outputs": [],
   "source": [
    "def function_name(argument1, argument2):\n",
    "    Sum = argument1 + argument2\n",
    "    return (Sum)"
   ]
  },
  {
   "cell_type": "markdown",
   "id": "224786d7",
   "metadata": {},
   "source": [
    "When you run a function, it is called calling a function..."
   ]
  },
  {
   "cell_type": "code",
   "execution_count": 40,
   "id": "e4b0bafb",
   "metadata": {},
   "outputs": [
    {
     "data": {
      "text/plain": [
       "10"
      ]
     },
     "execution_count": 40,
     "metadata": {},
     "output_type": "execute_result"
    }
   ],
   "source": [
    "function_name(3,7)"
   ]
  },
  {
   "cell_type": "markdown",
   "id": "68d6d967",
   "metadata": {},
   "source": [
    "You can call exisiting functions..."
   ]
  },
  {
   "cell_type": "code",
   "execution_count": 41,
   "id": "e1133ebb",
   "metadata": {},
   "outputs": [
    {
     "data": {
      "text/plain": [
       "16"
      ]
     },
     "execution_count": 41,
     "metadata": {},
     "output_type": "execute_result"
    }
   ],
   "source": [
    "np.sum(exArray)"
   ]
  },
  {
   "cell_type": "markdown",
   "id": "ab686632",
   "metadata": {},
   "source": [
    "## Non-Spatial Data in Python<a class=\"anchor\" id=\"data\"></a>"
   ]
  },
  {
   "cell_type": "markdown",
   "id": "09293de8",
   "metadata": {},
   "source": [
    "### Load Data<a class=\"anchor\" id=\"load\"></a>"
   ]
  },
  {
   "cell_type": "markdown",
   "id": "3b13cdf7",
   "metadata": {},
   "source": [
    "Now that we have an understanding of Python syntax, we can explore data with the popular python library `pandas`. We will look at data from the Institute of Museum and Library Services that contains the name, type, location, and revenue for every museum in the United States. For more information about the dataset, you can visit [this website](https://www.kaggle.com/datasets/imls/museum-directory/). "
   ]
  },
  {
   "cell_type": "code",
   "execution_count": 43,
   "id": "606d5e03",
   "metadata": {},
   "outputs": [],
   "source": [
    "# Load data\n",
    "museums = pd.read_csv(\"museums.csv\", low_memory = False)"
   ]
  },
  {
   "cell_type": "markdown",
   "id": "6a69d0e4",
   "metadata": {},
   "source": [
    "### View Data<a class=\"anchor\" id=\"view\"></a>"
   ]
  },
  {
   "cell_type": "code",
   "execution_count": 44,
   "id": "e2510403",
   "metadata": {},
   "outputs": [
    {
     "data": {
      "text/html": [
       "<div>\n",
       "<style scoped>\n",
       "    .dataframe tbody tr th:only-of-type {\n",
       "        vertical-align: middle;\n",
       "    }\n",
       "\n",
       "    .dataframe tbody tr th {\n",
       "        vertical-align: top;\n",
       "    }\n",
       "\n",
       "    .dataframe thead th {\n",
       "        text-align: right;\n",
       "    }\n",
       "</style>\n",
       "<table border=\"1\" class=\"dataframe\">\n",
       "  <thead>\n",
       "    <tr style=\"text-align: right;\">\n",
       "      <th></th>\n",
       "      <th>Museum ID</th>\n",
       "      <th>Museum Name</th>\n",
       "      <th>Legal Name</th>\n",
       "      <th>Alternate Name</th>\n",
       "      <th>Museum Type</th>\n",
       "      <th>Institution Name</th>\n",
       "      <th>Street Address (Administrative Location)</th>\n",
       "      <th>City (Administrative Location)</th>\n",
       "      <th>State (Administrative Location)</th>\n",
       "      <th>Zip Code (Administrative Location)</th>\n",
       "      <th>...</th>\n",
       "      <th>Latitude</th>\n",
       "      <th>Longitude</th>\n",
       "      <th>Locale Code (NCES)</th>\n",
       "      <th>County Code (FIPS)</th>\n",
       "      <th>State Code (FIPS)</th>\n",
       "      <th>Region Code (AAM)</th>\n",
       "      <th>Employer ID Number</th>\n",
       "      <th>Tax Period</th>\n",
       "      <th>Income</th>\n",
       "      <th>Revenue</th>\n",
       "    </tr>\n",
       "  </thead>\n",
       "  <tbody>\n",
       "    <tr>\n",
       "      <th>0</th>\n",
       "      <td>8400200098</td>\n",
       "      <td>ALASKA AVIATION HERITAGE MUSEUM</td>\n",
       "      <td>ALASKA AVIATION HERITAGE MUSEUM</td>\n",
       "      <td>NaN</td>\n",
       "      <td>HISTORY MUSEUM</td>\n",
       "      <td>NaN</td>\n",
       "      <td>4721 AIRCRAFT DR</td>\n",
       "      <td>ANCHORAGE</td>\n",
       "      <td>AK</td>\n",
       "      <td>99502</td>\n",
       "      <td>...</td>\n",
       "      <td>61.17925</td>\n",
       "      <td>-149.97254</td>\n",
       "      <td>1.0</td>\n",
       "      <td>20.0</td>\n",
       "      <td>2.0</td>\n",
       "      <td>6</td>\n",
       "      <td>920071852</td>\n",
       "      <td>201312.0</td>\n",
       "      <td>602912.0</td>\n",
       "      <td>550236.0</td>\n",
       "    </tr>\n",
       "    <tr>\n",
       "      <th>1</th>\n",
       "      <td>8400200117</td>\n",
       "      <td>ALASKA BOTANICAL GARDEN</td>\n",
       "      <td>ALASKA BOTANICAL GARDEN INC</td>\n",
       "      <td>NaN</td>\n",
       "      <td>ARBORETUM, BOTANICAL GARDEN, OR NATURE CENTER</td>\n",
       "      <td>NaN</td>\n",
       "      <td>4601 CAMPBELL AIRSTRIP RD</td>\n",
       "      <td>ANCHORAGE</td>\n",
       "      <td>AK</td>\n",
       "      <td>99507</td>\n",
       "      <td>...</td>\n",
       "      <td>61.16890</td>\n",
       "      <td>-149.76708</td>\n",
       "      <td>4.0</td>\n",
       "      <td>20.0</td>\n",
       "      <td>2.0</td>\n",
       "      <td>6</td>\n",
       "      <td>920115504</td>\n",
       "      <td>201312.0</td>\n",
       "      <td>1379576.0</td>\n",
       "      <td>1323742.0</td>\n",
       "    </tr>\n",
       "    <tr>\n",
       "      <th>2</th>\n",
       "      <td>8400200153</td>\n",
       "      <td>ALASKA CHALLENGER CENTER FOR SPACE SCIENCE TEC...</td>\n",
       "      <td>ALASKA CHALLENGER CENTER FOR SPACE SCIENCE TEC...</td>\n",
       "      <td>NaN</td>\n",
       "      <td>SCIENCE &amp; TECHNOLOGY MUSEUM OR PLANETARIUM</td>\n",
       "      <td>NaN</td>\n",
       "      <td>9711 KENAI SPUR HWY</td>\n",
       "      <td>KENAI</td>\n",
       "      <td>AK</td>\n",
       "      <td>99611</td>\n",
       "      <td>...</td>\n",
       "      <td>60.56149</td>\n",
       "      <td>-151.21598</td>\n",
       "      <td>3.0</td>\n",
       "      <td>122.0</td>\n",
       "      <td>2.0</td>\n",
       "      <td>6</td>\n",
       "      <td>921761906</td>\n",
       "      <td>201312.0</td>\n",
       "      <td>740030.0</td>\n",
       "      <td>729080.0</td>\n",
       "    </tr>\n",
       "    <tr>\n",
       "      <th>3</th>\n",
       "      <td>8400200143</td>\n",
       "      <td>ALASKA EDUCATORS HISTORICAL SOCIETY</td>\n",
       "      <td>ALASKA EDUCATORS HISTORICAL SOCIETY</td>\n",
       "      <td>NaN</td>\n",
       "      <td>HISTORIC PRESERVATION</td>\n",
       "      <td>NaN</td>\n",
       "      <td>214 BIRCH STREET</td>\n",
       "      <td>KENAI</td>\n",
       "      <td>AK</td>\n",
       "      <td>99611</td>\n",
       "      <td>...</td>\n",
       "      <td>60.56280</td>\n",
       "      <td>-151.26597</td>\n",
       "      <td>3.0</td>\n",
       "      <td>122.0</td>\n",
       "      <td>2.0</td>\n",
       "      <td>6</td>\n",
       "      <td>920165178</td>\n",
       "      <td>201412.0</td>\n",
       "      <td>0.0</td>\n",
       "      <td>0.0</td>\n",
       "    </tr>\n",
       "    <tr>\n",
       "      <th>4</th>\n",
       "      <td>8400200027</td>\n",
       "      <td>ALASKA HERITAGE MUSEUM</td>\n",
       "      <td>ALASKA AVIATION HERITAGE MUSEUM</td>\n",
       "      <td>NaN</td>\n",
       "      <td>HISTORY MUSEUM</td>\n",
       "      <td>NaN</td>\n",
       "      <td>301 W NORTHERN LIGHTS BLVD</td>\n",
       "      <td>ANCHORAGE</td>\n",
       "      <td>AK</td>\n",
       "      <td>99503</td>\n",
       "      <td>...</td>\n",
       "      <td>61.17925</td>\n",
       "      <td>-149.97254</td>\n",
       "      <td>1.0</td>\n",
       "      <td>20.0</td>\n",
       "      <td>2.0</td>\n",
       "      <td>6</td>\n",
       "      <td>920071852</td>\n",
       "      <td>201312.0</td>\n",
       "      <td>602912.0</td>\n",
       "      <td>550236.0</td>\n",
       "    </tr>\n",
       "  </tbody>\n",
       "</table>\n",
       "<p>5 rows × 25 columns</p>\n",
       "</div>"
      ],
      "text/plain": [
       "    Museum ID                                        Museum Name  \\\n",
       "0  8400200098                    ALASKA AVIATION HERITAGE MUSEUM   \n",
       "1  8400200117                            ALASKA BOTANICAL GARDEN   \n",
       "2  8400200153  ALASKA CHALLENGER CENTER FOR SPACE SCIENCE TEC...   \n",
       "3  8400200143                ALASKA EDUCATORS HISTORICAL SOCIETY   \n",
       "4  8400200027                             ALASKA HERITAGE MUSEUM   \n",
       "\n",
       "                                          Legal Name Alternate Name  \\\n",
       "0                    ALASKA AVIATION HERITAGE MUSEUM            NaN   \n",
       "1                        ALASKA BOTANICAL GARDEN INC            NaN   \n",
       "2  ALASKA CHALLENGER CENTER FOR SPACE SCIENCE TEC...            NaN   \n",
       "3                ALASKA EDUCATORS HISTORICAL SOCIETY            NaN   \n",
       "4                    ALASKA AVIATION HERITAGE MUSEUM            NaN   \n",
       "\n",
       "                                     Museum Type Institution Name  \\\n",
       "0                                 HISTORY MUSEUM              NaN   \n",
       "1  ARBORETUM, BOTANICAL GARDEN, OR NATURE CENTER              NaN   \n",
       "2     SCIENCE & TECHNOLOGY MUSEUM OR PLANETARIUM              NaN   \n",
       "3                          HISTORIC PRESERVATION              NaN   \n",
       "4                                 HISTORY MUSEUM              NaN   \n",
       "\n",
       "  Street Address (Administrative Location) City (Administrative Location)  \\\n",
       "0                         4721 AIRCRAFT DR                      ANCHORAGE   \n",
       "1                4601 CAMPBELL AIRSTRIP RD                      ANCHORAGE   \n",
       "2                      9711 KENAI SPUR HWY                          KENAI   \n",
       "3                         214 BIRCH STREET                          KENAI   \n",
       "4               301 W NORTHERN LIGHTS BLVD                      ANCHORAGE   \n",
       "\n",
       "  State (Administrative Location) Zip Code (Administrative Location)  ...  \\\n",
       "0                              AK                              99502  ...   \n",
       "1                              AK                              99507  ...   \n",
       "2                              AK                              99611  ...   \n",
       "3                              AK                              99611  ...   \n",
       "4                              AK                              99503  ...   \n",
       "\n",
       "   Latitude  Longitude Locale Code (NCES)  County Code (FIPS)  \\\n",
       "0  61.17925 -149.97254                1.0                20.0   \n",
       "1  61.16890 -149.76708                4.0                20.0   \n",
       "2  60.56149 -151.21598                3.0               122.0   \n",
       "3  60.56280 -151.26597                3.0               122.0   \n",
       "4  61.17925 -149.97254                1.0                20.0   \n",
       "\n",
       "  State Code (FIPS)  Region Code (AAM)  Employer ID Number  Tax Period  \\\n",
       "0               2.0                  6           920071852    201312.0   \n",
       "1               2.0                  6           920115504    201312.0   \n",
       "2               2.0                  6           921761906    201312.0   \n",
       "3               2.0                  6           920165178    201412.0   \n",
       "4               2.0                  6           920071852    201312.0   \n",
       "\n",
       "      Income    Revenue  \n",
       "0   602912.0   550236.0  \n",
       "1  1379576.0  1323742.0  \n",
       "2   740030.0   729080.0  \n",
       "3        0.0        0.0  \n",
       "4   602912.0   550236.0  \n",
       "\n",
       "[5 rows x 25 columns]"
      ]
     },
     "execution_count": 44,
     "metadata": {},
     "output_type": "execute_result"
    }
   ],
   "source": [
    "museums.head()"
   ]
  },
  {
   "cell_type": "code",
   "execution_count": 45,
   "id": "fc015154",
   "metadata": {},
   "outputs": [
    {
     "data": {
      "text/html": [
       "<div>\n",
       "<style scoped>\n",
       "    .dataframe tbody tr th:only-of-type {\n",
       "        vertical-align: middle;\n",
       "    }\n",
       "\n",
       "    .dataframe tbody tr th {\n",
       "        vertical-align: top;\n",
       "    }\n",
       "\n",
       "    .dataframe thead th {\n",
       "        text-align: right;\n",
       "    }\n",
       "</style>\n",
       "<table border=\"1\" class=\"dataframe\">\n",
       "  <thead>\n",
       "    <tr style=\"text-align: right;\">\n",
       "      <th></th>\n",
       "      <th>Museum ID</th>\n",
       "      <th>Museum Name</th>\n",
       "      <th>Legal Name</th>\n",
       "      <th>Alternate Name</th>\n",
       "      <th>Museum Type</th>\n",
       "      <th>Institution Name</th>\n",
       "      <th>Street Address (Administrative Location)</th>\n",
       "      <th>City (Administrative Location)</th>\n",
       "      <th>State (Administrative Location)</th>\n",
       "      <th>Zip Code (Administrative Location)</th>\n",
       "      <th>...</th>\n",
       "      <th>Latitude</th>\n",
       "      <th>Longitude</th>\n",
       "      <th>Locale Code (NCES)</th>\n",
       "      <th>County Code (FIPS)</th>\n",
       "      <th>State Code (FIPS)</th>\n",
       "      <th>Region Code (AAM)</th>\n",
       "      <th>Employer ID Number</th>\n",
       "      <th>Tax Period</th>\n",
       "      <th>Income</th>\n",
       "      <th>Revenue</th>\n",
       "    </tr>\n",
       "  </thead>\n",
       "  <tbody>\n",
       "    <tr>\n",
       "      <th>33069</th>\n",
       "      <td>8405600158</td>\n",
       "      <td>WYOMING TERRITORIAL PARK HISTORIC ASSOCIATION</td>\n",
       "      <td>WYOMING TERRITORIAL PARK HISTORIC ASSOCIATION INC</td>\n",
       "      <td>NaN</td>\n",
       "      <td>HISTORIC PRESERVATION</td>\n",
       "      <td>NaN</td>\n",
       "      <td>1273 N 15TH ST STE 121</td>\n",
       "      <td>LARAMIE</td>\n",
       "      <td>WY</td>\n",
       "      <td>82072</td>\n",
       "      <td>...</td>\n",
       "      <td>41.32276</td>\n",
       "      <td>-105.57686</td>\n",
       "      <td>3.0</td>\n",
       "      <td>1.0</td>\n",
       "      <td>56.0</td>\n",
       "      <td>5</td>\n",
       "      <td>830318392</td>\n",
       "      <td>201312.0</td>\n",
       "      <td>208508.0</td>\n",
       "      <td>83981.0</td>\n",
       "    </tr>\n",
       "    <tr>\n",
       "      <th>33070</th>\n",
       "      <td>8405600137</td>\n",
       "      <td>WYOMING TRANSPORTATION MUSEUM</td>\n",
       "      <td>WYOMING TRANSPORTATION MUSEUM CORP</td>\n",
       "      <td>NaN</td>\n",
       "      <td>HISTORY MUSEUM</td>\n",
       "      <td>NaN</td>\n",
       "      <td>PO BOX 704</td>\n",
       "      <td>CHEYENNE</td>\n",
       "      <td>WY</td>\n",
       "      <td>82003</td>\n",
       "      <td>...</td>\n",
       "      <td>41.13010</td>\n",
       "      <td>-104.81916</td>\n",
       "      <td>1.0</td>\n",
       "      <td>21.0</td>\n",
       "      <td>56.0</td>\n",
       "      <td>5</td>\n",
       "      <td>830295570</td>\n",
       "      <td>201309.0</td>\n",
       "      <td>0.0</td>\n",
       "      <td>0.0</td>\n",
       "    </tr>\n",
       "    <tr>\n",
       "      <th>33071</th>\n",
       "      <td>8405600199</td>\n",
       "      <td>YELLOWSTONE NATIONAL PARK</td>\n",
       "      <td>LITTLE PEOPLE LEARNING CENTER INC</td>\n",
       "      <td>NaN</td>\n",
       "      <td>HISTORIC PRESERVATION</td>\n",
       "      <td>NaN</td>\n",
       "      <td>NATIONAL PARK SERVICE</td>\n",
       "      <td>YELLOWSTONE NATIONAL PARK</td>\n",
       "      <td>WY</td>\n",
       "      <td>82190</td>\n",
       "      <td>...</td>\n",
       "      <td>44.91303</td>\n",
       "      <td>-110.41584</td>\n",
       "      <td>4.0</td>\n",
       "      <td>29.0</td>\n",
       "      <td>56.0</td>\n",
       "      <td>5</td>\n",
       "      <td>830249072</td>\n",
       "      <td>201312.0</td>\n",
       "      <td>127496.0</td>\n",
       "      <td>126762.0</td>\n",
       "    </tr>\n",
       "  </tbody>\n",
       "</table>\n",
       "<p>3 rows × 25 columns</p>\n",
       "</div>"
      ],
      "text/plain": [
       "        Museum ID                                    Museum Name  \\\n",
       "33069  8405600158  WYOMING TERRITORIAL PARK HISTORIC ASSOCIATION   \n",
       "33070  8405600137                  WYOMING TRANSPORTATION MUSEUM   \n",
       "33071  8405600199                      YELLOWSTONE NATIONAL PARK   \n",
       "\n",
       "                                              Legal Name Alternate Name  \\\n",
       "33069  WYOMING TERRITORIAL PARK HISTORIC ASSOCIATION INC            NaN   \n",
       "33070                 WYOMING TRANSPORTATION MUSEUM CORP            NaN   \n",
       "33071                  LITTLE PEOPLE LEARNING CENTER INC            NaN   \n",
       "\n",
       "                 Museum Type Institution Name  \\\n",
       "33069  HISTORIC PRESERVATION              NaN   \n",
       "33070         HISTORY MUSEUM              NaN   \n",
       "33071  HISTORIC PRESERVATION              NaN   \n",
       "\n",
       "      Street Address (Administrative Location) City (Administrative Location)  \\\n",
       "33069                   1273 N 15TH ST STE 121                        LARAMIE   \n",
       "33070                               PO BOX 704                       CHEYENNE   \n",
       "33071                    NATIONAL PARK SERVICE      YELLOWSTONE NATIONAL PARK   \n",
       "\n",
       "      State (Administrative Location) Zip Code (Administrative Location)  ...  \\\n",
       "33069                              WY                              82072  ...   \n",
       "33070                              WY                              82003  ...   \n",
       "33071                              WY                              82190  ...   \n",
       "\n",
       "       Latitude  Longitude Locale Code (NCES)  County Code (FIPS)  \\\n",
       "33069  41.32276 -105.57686                3.0                 1.0   \n",
       "33070  41.13010 -104.81916                1.0                21.0   \n",
       "33071  44.91303 -110.41584                4.0                29.0   \n",
       "\n",
       "      State Code (FIPS)  Region Code (AAM)  Employer ID Number  Tax Period  \\\n",
       "33069              56.0                  5           830318392    201312.0   \n",
       "33070              56.0                  5           830295570    201309.0   \n",
       "33071              56.0                  5           830249072    201312.0   \n",
       "\n",
       "         Income   Revenue  \n",
       "33069  208508.0   83981.0  \n",
       "33070       0.0       0.0  \n",
       "33071  127496.0  126762.0  \n",
       "\n",
       "[3 rows x 25 columns]"
      ]
     },
     "execution_count": 45,
     "metadata": {},
     "output_type": "execute_result"
    }
   ],
   "source": [
    "museums.tail(3)"
   ]
  },
  {
   "cell_type": "markdown",
   "id": "9d694fde",
   "metadata": {},
   "source": [
    "### Select Data<a class=\"anchor\" id=\"select\"></a>"
   ]
  },
  {
   "cell_type": "code",
   "execution_count": 46,
   "id": "02b18df5",
   "metadata": {},
   "outputs": [
    {
     "data": {
      "text/plain": [
       "Index(['Museum ID', 'Museum Name', 'Legal Name', 'Alternate Name',\n",
       "       'Museum Type', 'Institution Name',\n",
       "       'Street Address (Administrative Location)',\n",
       "       'City (Administrative Location)', 'State (Administrative Location)',\n",
       "       'Zip Code (Administrative Location)',\n",
       "       'Street Address (Physical Location)', 'City (Physical Location)',\n",
       "       'State (Physical Location)', 'Zip Code (Physical Location)',\n",
       "       'Phone Number', 'Latitude', 'Longitude', 'Locale Code (NCES)',\n",
       "       'County Code (FIPS)', 'State Code (FIPS)', 'Region Code (AAM)',\n",
       "       'Employer ID Number', 'Tax Period', 'Income', 'Revenue'],\n",
       "      dtype='object')"
      ]
     },
     "execution_count": 46,
     "metadata": {},
     "output_type": "execute_result"
    }
   ],
   "source": [
    "museums.columns"
   ]
  },
  {
   "cell_type": "code",
   "execution_count": 47,
   "id": "b008e6e2",
   "metadata": {
    "slideshow": {
     "slide_type": "slide"
    }
   },
   "outputs": [
    {
     "data": {
      "text/html": [
       "<div>\n",
       "<style scoped>\n",
       "    .dataframe tbody tr th:only-of-type {\n",
       "        vertical-align: middle;\n",
       "    }\n",
       "\n",
       "    .dataframe tbody tr th {\n",
       "        vertical-align: top;\n",
       "    }\n",
       "\n",
       "    .dataframe thead th {\n",
       "        text-align: right;\n",
       "    }\n",
       "</style>\n",
       "<table border=\"1\" class=\"dataframe\">\n",
       "  <thead>\n",
       "    <tr style=\"text-align: right;\">\n",
       "      <th></th>\n",
       "      <th>Museum Name</th>\n",
       "      <th>Museum Type</th>\n",
       "      <th>City (Administrative Location)</th>\n",
       "      <th>Revenue</th>\n",
       "    </tr>\n",
       "  </thead>\n",
       "  <tbody>\n",
       "    <tr>\n",
       "      <th>0</th>\n",
       "      <td>ALASKA AVIATION HERITAGE MUSEUM</td>\n",
       "      <td>HISTORY MUSEUM</td>\n",
       "      <td>ANCHORAGE</td>\n",
       "      <td>550236.0</td>\n",
       "    </tr>\n",
       "    <tr>\n",
       "      <th>1</th>\n",
       "      <td>ALASKA BOTANICAL GARDEN</td>\n",
       "      <td>ARBORETUM, BOTANICAL GARDEN, OR NATURE CENTER</td>\n",
       "      <td>ANCHORAGE</td>\n",
       "      <td>1323742.0</td>\n",
       "    </tr>\n",
       "    <tr>\n",
       "      <th>2</th>\n",
       "      <td>ALASKA CHALLENGER CENTER FOR SPACE SCIENCE TEC...</td>\n",
       "      <td>SCIENCE &amp; TECHNOLOGY MUSEUM OR PLANETARIUM</td>\n",
       "      <td>KENAI</td>\n",
       "      <td>729080.0</td>\n",
       "    </tr>\n",
       "    <tr>\n",
       "      <th>3</th>\n",
       "      <td>ALASKA EDUCATORS HISTORICAL SOCIETY</td>\n",
       "      <td>HISTORIC PRESERVATION</td>\n",
       "      <td>KENAI</td>\n",
       "      <td>0.0</td>\n",
       "    </tr>\n",
       "    <tr>\n",
       "      <th>4</th>\n",
       "      <td>ALASKA HERITAGE MUSEUM</td>\n",
       "      <td>HISTORY MUSEUM</td>\n",
       "      <td>ANCHORAGE</td>\n",
       "      <td>550236.0</td>\n",
       "    </tr>\n",
       "  </tbody>\n",
       "</table>\n",
       "</div>"
      ],
      "text/plain": [
       "                                         Museum Name  \\\n",
       "0                    ALASKA AVIATION HERITAGE MUSEUM   \n",
       "1                            ALASKA BOTANICAL GARDEN   \n",
       "2  ALASKA CHALLENGER CENTER FOR SPACE SCIENCE TEC...   \n",
       "3                ALASKA EDUCATORS HISTORICAL SOCIETY   \n",
       "4                             ALASKA HERITAGE MUSEUM   \n",
       "\n",
       "                                     Museum Type  \\\n",
       "0                                 HISTORY MUSEUM   \n",
       "1  ARBORETUM, BOTANICAL GARDEN, OR NATURE CENTER   \n",
       "2     SCIENCE & TECHNOLOGY MUSEUM OR PLANETARIUM   \n",
       "3                          HISTORIC PRESERVATION   \n",
       "4                                 HISTORY MUSEUM   \n",
       "\n",
       "  City (Administrative Location)    Revenue  \n",
       "0                      ANCHORAGE   550236.0  \n",
       "1                      ANCHORAGE  1323742.0  \n",
       "2                          KENAI   729080.0  \n",
       "3                          KENAI        0.0  \n",
       "4                      ANCHORAGE   550236.0  "
      ]
     },
     "execution_count": 47,
     "metadata": {},
     "output_type": "execute_result"
    }
   ],
   "source": [
    "ColsInterest = [\"Museum Name\", \"Museum Type\", \"City (Administrative Location)\", \"Revenue\"]\n",
    "museums[ColsInterest].head()"
   ]
  },
  {
   "cell_type": "code",
   "execution_count": 48,
   "id": "1c5e13aa",
   "metadata": {},
   "outputs": [
    {
     "data": {
      "text/html": [
       "<div>\n",
       "<style scoped>\n",
       "    .dataframe tbody tr th:only-of-type {\n",
       "        vertical-align: middle;\n",
       "    }\n",
       "\n",
       "    .dataframe tbody tr th {\n",
       "        vertical-align: top;\n",
       "    }\n",
       "\n",
       "    .dataframe thead th {\n",
       "        text-align: right;\n",
       "    }\n",
       "</style>\n",
       "<table border=\"1\" class=\"dataframe\">\n",
       "  <thead>\n",
       "    <tr style=\"text-align: right;\">\n",
       "      <th></th>\n",
       "      <th>Museum Name</th>\n",
       "      <th>Museum Type</th>\n",
       "      <th>City (Administrative Location)</th>\n",
       "      <th>Revenue</th>\n",
       "    </tr>\n",
       "  </thead>\n",
       "  <tbody>\n",
       "    <tr>\n",
       "      <th>0</th>\n",
       "      <td>ALASKA AVIATION HERITAGE MUSEUM</td>\n",
       "      <td>HISTORY MUSEUM</td>\n",
       "      <td>ANCHORAGE</td>\n",
       "      <td>550236.0</td>\n",
       "    </tr>\n",
       "    <tr>\n",
       "      <th>1</th>\n",
       "      <td>ALASKA BOTANICAL GARDEN</td>\n",
       "      <td>ARBORETUM, BOTANICAL GARDEN, OR NATURE CENTER</td>\n",
       "      <td>ANCHORAGE</td>\n",
       "      <td>1323742.0</td>\n",
       "    </tr>\n",
       "    <tr>\n",
       "      <th>2</th>\n",
       "      <td>ALASKA CHALLENGER CENTER FOR SPACE SCIENCE TEC...</td>\n",
       "      <td>SCIENCE &amp; TECHNOLOGY MUSEUM OR PLANETARIUM</td>\n",
       "      <td>KENAI</td>\n",
       "      <td>729080.0</td>\n",
       "    </tr>\n",
       "    <tr>\n",
       "      <th>3</th>\n",
       "      <td>ALASKA EDUCATORS HISTORICAL SOCIETY</td>\n",
       "      <td>HISTORIC PRESERVATION</td>\n",
       "      <td>KENAI</td>\n",
       "      <td>0.0</td>\n",
       "    </tr>\n",
       "    <tr>\n",
       "      <th>4</th>\n",
       "      <td>ALASKA HERITAGE MUSEUM</td>\n",
       "      <td>HISTORY MUSEUM</td>\n",
       "      <td>ANCHORAGE</td>\n",
       "      <td>550236.0</td>\n",
       "    </tr>\n",
       "    <tr>\n",
       "      <th>5</th>\n",
       "      <td>ALASKA HISTORICAL MUSEUM</td>\n",
       "      <td>HISTORIC PRESERVATION</td>\n",
       "      <td>ANCHORAGE</td>\n",
       "      <td>NaN</td>\n",
       "    </tr>\n",
       "  </tbody>\n",
       "</table>\n",
       "</div>"
      ],
      "text/plain": [
       "                                         Museum Name  \\\n",
       "0                    ALASKA AVIATION HERITAGE MUSEUM   \n",
       "1                            ALASKA BOTANICAL GARDEN   \n",
       "2  ALASKA CHALLENGER CENTER FOR SPACE SCIENCE TEC...   \n",
       "3                ALASKA EDUCATORS HISTORICAL SOCIETY   \n",
       "4                             ALASKA HERITAGE MUSEUM   \n",
       "5                           ALASKA HISTORICAL MUSEUM   \n",
       "\n",
       "                                     Museum Type  \\\n",
       "0                                 HISTORY MUSEUM   \n",
       "1  ARBORETUM, BOTANICAL GARDEN, OR NATURE CENTER   \n",
       "2     SCIENCE & TECHNOLOGY MUSEUM OR PLANETARIUM   \n",
       "3                          HISTORIC PRESERVATION   \n",
       "4                                 HISTORY MUSEUM   \n",
       "5                          HISTORIC PRESERVATION   \n",
       "\n",
       "  City (Administrative Location)    Revenue  \n",
       "0                      ANCHORAGE   550236.0  \n",
       "1                      ANCHORAGE  1323742.0  \n",
       "2                          KENAI   729080.0  \n",
       "3                          KENAI        0.0  \n",
       "4                      ANCHORAGE   550236.0  \n",
       "5                      ANCHORAGE        NaN  "
      ]
     },
     "execution_count": 48,
     "metadata": {},
     "output_type": "execute_result"
    }
   ],
   "source": [
    "museums.loc[0:5, ColsInterest]"
   ]
  },
  {
   "cell_type": "markdown",
   "id": "eb350a44",
   "metadata": {},
   "source": [
    "### Save Data<a class=\"anchor\" id=\"save\"></a>"
   ]
  },
  {
   "cell_type": "code",
   "execution_count": 49,
   "id": "28dfd423",
   "metadata": {},
   "outputs": [
    {
     "data": {
      "text/html": [
       "<div>\n",
       "<style scoped>\n",
       "    .dataframe tbody tr th:only-of-type {\n",
       "        vertical-align: middle;\n",
       "    }\n",
       "\n",
       "    .dataframe tbody tr th {\n",
       "        vertical-align: top;\n",
       "    }\n",
       "\n",
       "    .dataframe thead th {\n",
       "        text-align: right;\n",
       "    }\n",
       "</style>\n",
       "<table border=\"1\" class=\"dataframe\">\n",
       "  <thead>\n",
       "    <tr style=\"text-align: right;\">\n",
       "      <th></th>\n",
       "      <th>Employer ID Number</th>\n",
       "      <th>Tax Period</th>\n",
       "      <th>Income</th>\n",
       "    </tr>\n",
       "  </thead>\n",
       "  <tbody>\n",
       "    <tr>\n",
       "      <th>0</th>\n",
       "      <td>920071852</td>\n",
       "      <td>201312.0</td>\n",
       "      <td>602912.0</td>\n",
       "    </tr>\n",
       "    <tr>\n",
       "      <th>1</th>\n",
       "      <td>920115504</td>\n",
       "      <td>201312.0</td>\n",
       "      <td>1379576.0</td>\n",
       "    </tr>\n",
       "    <tr>\n",
       "      <th>2</th>\n",
       "      <td>921761906</td>\n",
       "      <td>201312.0</td>\n",
       "      <td>740030.0</td>\n",
       "    </tr>\n",
       "    <tr>\n",
       "      <th>3</th>\n",
       "      <td>920165178</td>\n",
       "      <td>201412.0</td>\n",
       "      <td>0.0</td>\n",
       "    </tr>\n",
       "    <tr>\n",
       "      <th>4</th>\n",
       "      <td>920071852</td>\n",
       "      <td>201312.0</td>\n",
       "      <td>602912.0</td>\n",
       "    </tr>\n",
       "    <tr>\n",
       "      <th>...</th>\n",
       "      <td>...</td>\n",
       "      <td>...</td>\n",
       "      <td>...</td>\n",
       "    </tr>\n",
       "    <tr>\n",
       "      <th>33067</th>\n",
       "      <td>836007540</td>\n",
       "      <td>NaN</td>\n",
       "      <td>NaN</td>\n",
       "    </tr>\n",
       "    <tr>\n",
       "      <th>33068</th>\n",
       "      <td>237368629</td>\n",
       "      <td>201404.0</td>\n",
       "      <td>0.0</td>\n",
       "    </tr>\n",
       "    <tr>\n",
       "      <th>33069</th>\n",
       "      <td>830318392</td>\n",
       "      <td>201312.0</td>\n",
       "      <td>208508.0</td>\n",
       "    </tr>\n",
       "    <tr>\n",
       "      <th>33070</th>\n",
       "      <td>830295570</td>\n",
       "      <td>201309.0</td>\n",
       "      <td>0.0</td>\n",
       "    </tr>\n",
       "    <tr>\n",
       "      <th>33071</th>\n",
       "      <td>830249072</td>\n",
       "      <td>201312.0</td>\n",
       "      <td>127496.0</td>\n",
       "    </tr>\n",
       "  </tbody>\n",
       "</table>\n",
       "<p>33072 rows × 3 columns</p>\n",
       "</div>"
      ],
      "text/plain": [
       "      Employer ID Number  Tax Period     Income\n",
       "0              920071852    201312.0   602912.0\n",
       "1              920115504    201312.0  1379576.0\n",
       "2              921761906    201312.0   740030.0\n",
       "3              920165178    201412.0        0.0\n",
       "4              920071852    201312.0   602912.0\n",
       "...                  ...         ...        ...\n",
       "33067          836007540         NaN        NaN\n",
       "33068          237368629    201404.0        0.0\n",
       "33069          830318392    201312.0   208508.0\n",
       "33070          830295570    201309.0        0.0\n",
       "33071          830249072    201312.0   127496.0\n",
       "\n",
       "[33072 rows x 3 columns]"
      ]
     },
     "execution_count": 49,
     "metadata": {},
     "output_type": "execute_result"
    }
   ],
   "source": [
    "df = museums.iloc[:, -4:-1]\n",
    "df"
   ]
  },
  {
   "cell_type": "code",
   "execution_count": 50,
   "id": "bd661704",
   "metadata": {},
   "outputs": [],
   "source": [
    "df.to_csv(\"MuseumTaxInfo.csv\")"
   ]
  },
  {
   "cell_type": "markdown",
   "id": "ab5b5445",
   "metadata": {},
   "source": [
    "## Translating Python to English<a class=\"anchor\" id=\"translate\"></a>"
   ]
  },
  {
   "cell_type": "code",
   "execution_count": 51,
   "id": "b50b0778",
   "metadata": {},
   "outputs": [
    {
     "name": "stdout",
     "output_type": "stream",
     "text": [
      "3 + 4 = 7\n"
     ]
    }
   ],
   "source": [
    "x = 3 #set var x to equal 3\n",
    "y = 4 #set var y to equal 4\n",
    "print(x, \"+\", y, \"=\", x + y) #output: 3 + 4 = 7"
   ]
  },
  {
   "cell_type": "code",
   "execution_count": 53,
   "id": "db299b7c",
   "metadata": {},
   "outputs": [
    {
     "data": {
      "text/plain": [
       "[6, 7, 8, 9]"
      ]
     },
     "execution_count": 53,
     "metadata": {},
     "output_type": "execute_result"
    }
   ],
   "source": [
    "digits = list(range(10)) #set digits var to equal range up to 10\n",
    "GreaterThan5 = [] #creating an empty array calling it GreaterThan5\n",
    "\n",
    "for i in (range(len(digits))): #iterate over numbers 1-9\n",
    "    num = digits[i] #num is an element of array digits (numbers 1-9)\n",
    "    if num > 5:\n",
    "        GreaterThan5.append(num) #add the number to GreaterThan5 array\n",
    "        \n",
    "GreaterThan5 #array of numbers greater than 5"
   ]
  },
  {
   "cell_type": "code",
   "execution_count": 54,
   "id": "34fc903d",
   "metadata": {},
   "outputs": [
    {
     "data": {
      "text/plain": [
       "count    2.296100e+04\n",
       "mean     1.069682e+08\n",
       "std      2.509287e+09\n",
       "min     -9.230000e+02\n",
       "25%      0.000000e+00\n",
       "50%      8.781000e+03\n",
       "75%      2.163770e+05\n",
       "max      8.318144e+10\n",
       "Name: Income, dtype: float64"
      ]
     },
     "execution_count": 54,
     "metadata": {},
     "output_type": "execute_result"
    }
   ],
   "source": [
    "museums[\"Income\"].describe() #selecting income col from museum dataframe and generate desc stats"
   ]
  },
  {
   "cell_type": "code",
   "execution_count": 55,
   "id": "5b0a03de",
   "metadata": {},
   "outputs": [
    {
     "data": {
      "image/png": "[encoded data removed]",
      "text/plain": [
       "<Figure size 640x480 with 1 Axes>"
      ]
     },
     "metadata": {},
     "output_type": "display_data"
    }
   ],
   "source": [
    "plt.hist(museums[\"Income\"], bins = 100) #plot a histogram income with 100 bins\n",
    "plt.show() #show the figure"
   ]
  }
 ],
 "metadata": {
  "kernelspec": {
   "display_name": "Python 3 (ipykernel)",
   "language": "python",
   "name": "python3"
  },
  "language_info": {
   "codemirror_mode": {
    "name": "ipython",
    "version": 3
   },
   "file_extension": ".py",
   "mimetype": "text/x-python",
   "name": "python",
   "nbconvert_exporter": "python",
   "pygments_lexer": "ipython3",
   "version": "3.10.8"
  }
 },
 "nbformat": 4,
 "nbformat_minor": 5
}
